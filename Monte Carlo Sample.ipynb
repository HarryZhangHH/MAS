{
 "cells": [
  {
   "cell_type": "code",
   "execution_count": 20,
   "id": "892db05f",
   "metadata": {},
   "outputs": [
    {
     "name": "stderr",
     "output_type": "stream",
     "text": [
      "100%|██████████████████████████████████████████████████████████████████████████████| 1000/1000 [01:40<00:00,  9.99it/s]"
     ]
    },
    {
     "name": "stdout",
     "output_type": "stream",
     "text": [
      "1.0\n",
      "1.0\n",
      "1.0\n"
     ]
    },
    {
     "name": "stderr",
     "output_type": "stream",
     "text": [
      "\n"
     ]
    }
   ],
   "source": [
    "import numpy as np\n",
    "import random\n",
    "\n",
    "e = np.e\n",
    "\n",
    "def findBest(candidate, n):\n",
    "    best = 0\n",
    "    sample_size = round(n / e)\n",
    "    print(f\"\\nSample size is {np.floor(sample_size)}\")\n",
    "    \n",
    "    # Find the best candidate\n",
    "    for i in range(int(sample_size)):\n",
    "        if candidate[i] > candidate[best]:\n",
    "            best =i\n",
    "        \n",
    "    # Find the first best candidate that is better than the benchmark\n",
    "    for i in range(int(sample_size), n):\n",
    "        if candidate[i] >= candidate[best]:\n",
    "            best = i\n",
    "            break\n",
    "    if best >= int(sample_size):\n",
    "        print(f\"\\nBest candidate found is {np.floor(best + 1)} with score {candidate[best]}\")\n",
    "        return candidate[best]\n",
    "    else:\n",
    "        print(\"Couldn't find a best candidate\")\n",
    "        return 0\n",
    "\n",
    "# environment\n",
    "from tqdm import tqdm\n",
    "n = 100000\n",
    "iterations = 1000\n",
    "score_list = []\n",
    "candidate = [0] * n\n",
    "for it in tqdm(range(iterations)):\n",
    "    # generating random numbers between 0 to 1\n",
    "    for i in range(n):\n",
    "        candidate[i] = random.randint(0, 1000)/1000\n",
    "#     print(\"Score : \", end = \"\")\n",
    "#     for i in range(n):\n",
    "#         print(candidate[i], end = \" \")\n",
    "#     print(\"\\n\")\n",
    "\n",
    "    score = findBest(candidate, n)\n",
    "    score_list.append(score)\n",
    "print(max(score_list))\n",
    "print(min(score_list))\n",
    "print(np.mean(np.asarray(score_list)))"
   ]
  }
 ],
 "metadata": {
  "kernelspec": {
   "display_name": "Python 3",
   "language": "python",
   "name": "python3"
  },
  "language_info": {
   "codemirror_mode": {
    "name": "ipython",
    "version": 3
   },
   "file_extension": ".py",
   "mimetype": "text/x-python",
   "name": "python",
   "nbconvert_exporter": "python",
   "pygments_lexer": "ipython3",
   "version": "3.6.13"
  }
 },
 "nbformat": 4,
 "nbformat_minor": 5
}
